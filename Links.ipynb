{
 "cells": [
  {
   "cell_type": "markdown",
   "metadata": {},
   "source": [
    "# Links de trabajo en Miro"
   ]
  },
  {
   "cell_type": "markdown",
   "metadata": {},
   "source": [
    "Waireframe y UI\n",
    "\n",
    "https://miro.com/app/board/uXjVOJtV69o=/?invite_link_id=402626758502\n",
    "\n",
    "Buyer Persona\n",
    "\n",
    "https://miro.com/app/board/uXjVOJwPKUU=/?invite_link_id=692849051001\n",
    "\n",
    "Publico Objetivo\n",
    "\n",
    "https://miro.com/app/board/uXjVOJndOy4=/?invite_link_id=532135641952\n",
    "\n",
    "Diagramas Utilizados en Documento de Requerimientos\n",
    "\n",
    "https://miro.com/app/board/uXjVOKMPcOo=/?invite_link_id=225407673659\n",
    "\n",
    "https://miro.com/app/board/uXjVOKc_SXM=/?invite_link_id=118391230778\n",
    "\n",
    "\n"
   ]
  }
 ],
 "metadata": {
  "language_info": {
   "name": "python"
  },
  "orig_nbformat": 4
 },
 "nbformat": 4,
 "nbformat_minor": 2
}
