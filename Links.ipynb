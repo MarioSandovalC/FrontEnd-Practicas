{
 "cells": [
  {
   "cell_type": "markdown",
   "metadata": {},
   "source": [
    "# Links de trabajo en Miro"
   ]
  },
  {
   "cell_type": "markdown",
   "metadata": {},
   "source": [
    "https://miro.com/app/board/uXjVOJtV69o=/\n",
    "\n",
    "https://miro.com/app/board/uXjVOJndOy4=/\n",
    "\n",
    "https://miro.com/app/board/uXjVOJwPKUU=/\n",
    "\n",
    "https://miro.com/app/board/uXjVOKMPcOo=/\n",
    "\n",
    "https://miro.com/app/board/uXjVOKc_SXM=/"
   ]
  }
 ],
 "metadata": {
  "language_info": {
   "name": "python"
  },
  "orig_nbformat": 4
 },
 "nbformat": 4,
 "nbformat_minor": 2
}
